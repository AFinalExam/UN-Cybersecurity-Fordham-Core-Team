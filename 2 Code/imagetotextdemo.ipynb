{
 "cells": [
  {
   "cell_type": "code",
   "execution_count": 1,
   "metadata": {
    "collapsed": true
   },
   "outputs": [],
   "source": [
    "from PIL import Image\n",
    "import pytesseract\n",
    "import argparse\n",
    "import cv2\n",
    "import os\n",
    "pytesseract.pytesseract.tesseract_cmd = 'C:/Program Files (x86)/Tesseract-OCR/tesseract'"
   ]
  },
  {
   "cell_type": "code",
   "execution_count": 4,
   "metadata": {},
   "outputs": [],
   "source": [
    "image = cv2.imread('002.png')\n",
    "gray = cv2.cvtColor(image, cv2.COLOR_BGR2GRAY)"
   ]
  },
  {
   "cell_type": "code",
   "execution_count": 5,
   "metadata": {},
   "outputs": [],
   "source": [
    "gray = cv2.threshold(gray, 0, 255,cv2.THRESH_BINARY | cv2.THRESH_OTSU)[1]\n",
    "#gray = cv2.medianBlur(gray, 3)"
   ]
  },
  {
   "cell_type": "code",
   "execution_count": 6,
   "metadata": {},
   "outputs": [
    {
     "data": {
      "text/plain": [
       "True"
      ]
     },
     "execution_count": 6,
     "metadata": {},
     "output_type": "execute_result"
    }
   ],
   "source": [
    "filename = \"{}.png\".format(os.getpid())\n",
    "cv2.imwrite(filename, gray)"
   ]
  },
  {
   "cell_type": "code",
   "execution_count": 7,
   "metadata": {
    "collapsed": true
   },
   "outputs": [],
   "source": [
    "text = pytesseract.image_to_string(Image.open(filename))"
   ]
  },
  {
   "cell_type": "code",
   "execution_count": 8,
   "metadata": {
    "scrolled": false
   },
   "outputs": [
    {
     "name": "stdout",
     "output_type": "stream",
     "text": [
      "National Cyber Security Masterplan(Summary)\n",
      "\n",
      " \n",
      "\n",
      "> Protecting national cyber space from cyber attacks 4\n",
      "\n",
      " \n",
      "\n",
      " \n",
      "\n",
      "Purpose\n",
      "\n",
      "The Masterplan is a comprehensive response strategy at the national level in order to\n",
      "effectively deal with national cyber threats which are getting increasingly sophisticated\n",
      "and intelligent.\n",
      "\n",
      " \n",
      "\n",
      " \n",
      "\n",
      "Progress\n",
      "\n",
      "The ’National Cyber Security Strategy Council' decided on the\n",
      "establish ment ofthe Masterplan.\n",
      "\n",
      "v j. ‘\n",
      "A draft was devised jointly by relevant organizations in consulta-\n",
      "\n",
      "tion with experts\n",
      "V\n",
      "\n",
      "Cr) ”[ng JULL 20H The Masterplan was deliberated and resolved at the ’National\n",
      "\n",
      "Cyber Security Countermeasure Council’ meeting\n",
      "V\n",
      "\n",
      "50 deliverables were drawn and implemented\n",
      "\n",
      " \n",
      "\n",
      " \n",
      "\n",
      " \n",
      "\n",
      " \n",
      "\n",
      " \n",
      "\n",
      " \n",
      "\n",
      "Key points\n",
      "\n",
      "5 action plans\n",
      "\n",
      "Establishing joint response system of private, public and\n",
      "military sectors\n",
      "\n",
      "Strengthening the security of critical infrastructure and\n",
      "enhancing secrets protection\n",
      "\n",
      "0 Detecting and blocking cyberattacks atthe national level\n",
      "\n",
      "0 Establish deterrence through international cooperation\n",
      "\n",
      "6 Building cybersecurityinfrastructure\n",
      "\n",
      " \n",
      "\n",
      "1/1.\n"
     ]
    }
   ],
   "source": [
    "print(text)"
   ]
  },
  {
   "cell_type": "code",
   "execution_count": 22,
   "metadata": {},
   "outputs": [
    {
     "data": {
      "text/plain": [
       "str"
      ]
     },
     "execution_count": 22,
     "metadata": {},
     "output_type": "execute_result"
    }
   ],
   "source": [
    "type(text)"
   ]
  },
  {
   "cell_type": "code",
   "execution_count": null,
   "metadata": {
    "collapsed": true
   },
   "outputs": [],
   "source": []
  }
 ],
 "metadata": {
  "kernelspec": {
   "display_name": "Python 3",
   "language": "python",
   "name": "python3"
  },
  "language_info": {
   "codemirror_mode": {
    "name": "ipython",
    "version": 3
   },
   "file_extension": ".py",
   "mimetype": "text/x-python",
   "name": "python",
   "nbconvert_exporter": "python",
   "pygments_lexer": "ipython3",
   "version": "3.6.1"
  }
 },
 "nbformat": 4,
 "nbformat_minor": 2
}
